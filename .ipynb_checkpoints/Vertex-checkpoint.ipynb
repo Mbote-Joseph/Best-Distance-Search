{
 "cells": [
  {
   "cell_type": "code",
   "execution_count": 1,
   "id": "b3fb5250",
   "metadata": {},
   "outputs": [],
   "source": [
    "class Vertex():\n",
    "    def __init__(self, v):\n",
    "        self.inNeighbours = []\n",
    "        self.outNeighbours = []\n",
    "        self.value = v\n",
    "\n",
    "    def hasOutNeighbour(self, v):\n",
    "        return (v in self.outNeighbours)\n",
    "\n",
    "    def hasInNeighbour(self, v):\n",
    "        return (v in self.inNeighbours)\n",
    "\n",
    "    def hasNeighbour(self, v):\n",
    "        return self.hasOutNeighbour(v) or self.hasInNeighbour(v)\n",
    "\n",
    "    def getOutNeighbours(self):\n",
    "        return self.outNeighbours\n",
    "\n",
    "    def getInNeighbours(self):\n",
    "        return self.inNeighbours\n",
    "    \n",
    "    def getNeighbours(self):\n",
    "        return self.outNeighbours + self.inNeighbours\n",
    "\n",
    "    def addOutNeighbour(self, v):\n",
    "        self.outNeighbours.append(v)\n",
    "\n",
    "    def addInNeighbour(self, v):\n",
    "        self.inNeighbours.append(v)\n",
    "\n",
    "    def __str__(self):\n",
    "        return str(self.value)"
   ]
  },
  {
   "cell_type": "code",
   "execution_count": null,
   "id": "8ac2ca60",
   "metadata": {},
   "outputs": [],
   "source": []
  }
 ],
 "metadata": {
  "kernelspec": {
   "display_name": "Python 3",
   "language": "python",
   "name": "python3"
  },
  "language_info": {
   "codemirror_mode": {
    "name": "ipython",
    "version": 3
   },
   "file_extension": ".py",
   "mimetype": "text/x-python",
   "name": "python",
   "nbconvert_exporter": "python",
   "pygments_lexer": "ipython3",
   "version": "3.8.8"
  }
 },
 "nbformat": 4,
 "nbformat_minor": 5
}
