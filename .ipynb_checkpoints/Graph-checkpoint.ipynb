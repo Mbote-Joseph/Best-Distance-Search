{
 "cells": [
  {
   "cell_type": "code",
   "execution_count": 1,
   "id": "dbde1686",
   "metadata": {},
   "outputs": [],
   "source": [
    "class Graph():\n",
    "    def __init__(self):\n",
    "        self.vertices = []\n",
    "\n",
    "    def addVertex(self, v):\n",
    "        self.vertices.append(v)\n",
    "\n",
    "    def addDirectedEdge(self, v, u):\n",
    "        u.addInNeighbour(v)\n",
    "        v.addOutNeighbour(u)\n",
    "\n",
    "    def getDirectedEdges(self):\n",
    "        ret = list()\n",
    "        for v in self.vertices:\n",
    "            ret += [[v, u] for u in v.outNeighbours]\n",
    "        return ret\n",
    "\n",
    "    # def __str__(self):\n",
    "    #     ret = \"Graph with:\\n\"\n",
    "    #     ret += \"\\t Vertices:\\n\\t\"\n",
    "    #     for v in self.vertices:\n",
    "    #         ret += str(v) + \",\"\n",
    "    #     ret += \"\\n\"\n",
    "    #     ret += \"\\t Edges:\\n\\t\"\n",
    "    #     for a, b in self.getDirectedEdges():\n",
    "    #         ret += \"(\" + str(a) + \",\" + str(b) + \") \"\n",
    "    #     ret += \"\\n\"\n",
    "    #     return ret\n"
   ]
  },
  {
   "cell_type": "code",
   "execution_count": null,
   "id": "da950186",
   "metadata": {},
   "outputs": [],
   "source": []
  }
 ],
 "metadata": {
  "kernelspec": {
   "display_name": "Python 3",
   "language": "python",
   "name": "python3"
  },
  "language_info": {
   "codemirror_mode": {
    "name": "ipython",
    "version": 3
   },
   "file_extension": ".py",
   "mimetype": "text/x-python",
   "name": "python",
   "nbconvert_exporter": "python",
   "pygments_lexer": "ipython3",
   "version": "3.8.8"
  }
 },
 "nbformat": 4,
 "nbformat_minor": 5
}
