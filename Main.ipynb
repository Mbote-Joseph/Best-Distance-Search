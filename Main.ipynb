{
 "cells": [
  {
   "cell_type": "markdown",
   "id": "5ff9b65c",
   "metadata": {},
   "source": [
    "# MBOGO JOSEPH MBOTE\n",
    "## SCT211-0011/2018"
   ]
  },
  {
   "cell_type": "code",
   "execution_count": 1,
   "id": "ad0a4f6a",
   "metadata": {},
   "outputs": [],
   "source": [
    "import os\n",
    "import webbrowser\n",
    "import folium\n",
    "import json\n",
    "import requests\n",
    "import uuid\n",
    "\n",
    "from tkinter import *\n",
    "from tkinter import messagebox\n",
    "from geopy import distance, Nominatim\n",
    "\n",
    "from Points import Points\n",
    "from Graph import Graph\n",
    "from Algorithms import A_Star, BFS, DFS, RP"
   ]
  },
  {
   "cell_type": "code",
   "execution_count": 2,
   "id": "621f0bed",
   "metadata": {},
   "outputs": [],
   "source": [
    "geocoder = Nominatim(user_agent=\"search\")\n",
    "_, KE = geocoder.geocode(\"Kenya\")\n",
    "KE = list(KE)\n",
    "global leaflet_map\n",
    "leaflet_map = folium.Map(location=KE, tiles='OpenStreetMap', zoom_start=6)"
   ]
  },
  {
   "cell_type": "code",
   "execution_count": 3,
   "id": "9fd9e587",
   "metadata": {},
   "outputs": [],
   "source": [
    "initial_state = ['Eldoret' , 'Garissa' , 'Isiolo', 'Kisumu', 'Kitui', 'Malindi' , 'Mombasa' , 'Nairobi' , 'Nakuru' , 'Thika']\n",
    "terminal_state = ['Eldoret' , 'Garissa' , 'Isiolo', 'Kisumu', 'Kitui', 'Malindi' , 'Mombasa' , 'Nairobi' , 'Nakuru' , 'Thika']\n",
    "algorithms = ['A* Search','Breadth First Search', 'Depth First Search']\n",
    "town_locations = dict()"
   ]
  },
  {
   "cell_type": "code",
   "execution_count": 4,
   "id": "511735ea",
   "metadata": {},
   "outputs": [],
   "source": [
    "def line_visualizer(path, map_to_draw_on=leaflet_map):\n",
    "    points = list(map(lambda n: town_locations[n], path))\n",
    "    folium.PolyLine(points,color=\"purple\").add_to(map_to_draw_on)"
   ]
  },
  {
   "cell_type": "code",
   "execution_count": 5,
   "id": "d1f41910",
   "metadata": {},
   "outputs": [],
   "source": [
    "def point_generation():\n",
    "    for town in initial_state:\n",
    "        _, loc = geocoder.geocode(f\"{town}, Kenya\")\n",
    "        loc = list(loc)\n",
    "        town_locations[town] = loc\n",
    "        folium.Marker(location = loc,popup = town,icon=folium.Icon(color=\"purple\")).add_to(leaflet_map)\n",
    "point_generation()"
   ]
  },
  {
   "cell_type": "code",
   "execution_count": 6,
   "id": "beaba61e",
   "metadata": {},
   "outputs": [],
   "source": [
    "eldoret = Points('Eldoret')\n",
    "garissa = Points('Garissa')\n",
    "isiolo = Points('Isiolo')\n",
    "kisumu = Points('Kisumu')\n",
    "kitui = Points('Kitui')\n",
    "malindi = Points('Malindi')\n",
    "mombasa = Points('Mombasa')\n",
    "nairobi = Points('Nairobi')\n",
    "nakuru = Points('Nakuru')\n",
    "thika = Points('Thika')\n",
    "\n",
    "\n",
    "graph = Graph()\n",
    "graph.addVertex(eldoret)\n",
    "graph.addVertex(garissa)\n",
    "graph.addVertex(isiolo )\n",
    "graph.addVertex(kisumu)\n",
    "graph.addVertex(kitui)\n",
    "graph.addVertex(malindi)\n",
    "graph.addVertex(mombasa)\n",
    "graph.addVertex(nairobi)\n",
    "graph.addVertex(nakuru)\n",
    "graph.addVertex(thika)\n",
    "\n",
    "\n",
    "graph.addDirectedEdge(kisumu, eldoret)\n",
    "graph.addDirectedEdge(eldoret, kisumu)\n",
    "graph.addDirectedEdge(kisumu, nakuru)\n",
    "graph.addDirectedEdge(nakuru, kisumu)\n",
    "graph.addDirectedEdge(eldoret, nakuru)\n",
    "graph.addDirectedEdge(nakuru, eldoret)\n",
    "graph.addDirectedEdge(eldoret, nairobi)\n",
    "graph.addDirectedEdge(nairobi, eldoret)\n",
    "graph.addDirectedEdge(isiolo, thika)\n",
    "graph.addDirectedEdge(thika, isiolo)\n",
    "graph.addDirectedEdge(nakuru, nairobi)\n",
    "graph.addDirectedEdge(nairobi, nakuru)\n",
    "graph.addDirectedEdge(nairobi, thika)\n",
    "graph.addDirectedEdge(thika, nairobi)\n",
    "graph.addDirectedEdge(nairobi, mombasa)\n",
    "graph.addDirectedEdge(mombasa, nairobi)\n",
    "graph.addDirectedEdge(kitui, mombasa)\n",
    "graph.addDirectedEdge(mombasa,kitui)\n",
    "graph.addDirectedEdge(nairobi, garissa)\n",
    "graph.addDirectedEdge(garissa,nairobi)\n",
    "graph.addDirectedEdge(nairobi,isiolo)\n",
    "graph.addDirectedEdge(nairobi,isiolo)\n",
    "graph.addDirectedEdge(garissa,isiolo)\n",
    "graph.addDirectedEdge(isiolo,garissa)\n",
    "graph.addDirectedEdge(isiolo,kitui)\n",
    "graph.addDirectedEdge(kitui,isiolo)\n",
    "graph.addDirectedEdge(garissa,kitui)\n",
    "graph.addDirectedEdge(kitui,garissa)\n",
    "graph.addDirectedEdge(nairobi,kitui)\n",
    "graph.addDirectedEdge(kitui,nairobi)\n",
    "graph.addDirectedEdge(kitui,malindi)\n",
    "graph.addDirectedEdge(malindi,kitui)\n",
    "graph.addDirectedEdge(garissa,malindi)\n",
    "graph.addDirectedEdge(malindi,garissa)\n",
    "graph.addDirectedEdge(mombasa,malindi)\n",
    "graph.addDirectedEdge(malindi,mombasa)"
   ]
  },
  {
   "cell_type": "code",
   "execution_count": 7,
   "id": "ca1c575f",
   "metadata": {},
   "outputs": [],
   "source": [
    "def town_position(town_name, towns):\n",
    "    return graph.vertices.index(list(filter(lambda n: n.value == town_name, towns.vertices))[0])"
   ]
  },
  {
   "cell_type": "code",
   "execution_count": 8,
   "id": "046c8e6a",
   "metadata": {},
   "outputs": [],
   "source": [
    "def obtain_distance(path):\n",
    "    global total_distance\n",
    "    total_distance=0\n",
    "    for i in range(len(path)-1):\n",
    "        x = path[i]\n",
    "        y = path[i+1]\n",
    "        _, x_loc = geocoder.geocode(x)\n",
    "        _, y_loc = geocoder.geocode(y)\n",
    "        resp=requests.get(f'http://router.project-osrm.org/route/v1/driving/{x_loc[1]},{x_loc[0]};{y_loc[1]},{y_loc[0]}?overview=false')\n",
    "        distance=((json.loads(resp.content))[\"routes\"][0][\"distance\"])*0.001\n",
    "        total_distance+=distance \n",
    "    return round(total_distance, 2)"
   ]
  },
  {
   "cell_type": "code",
   "execution_count": 9,
   "id": "b4761947",
   "metadata": {},
   "outputs": [],
   "source": [
    "def interaction():\n",
    "    filename = str(uuid.uuid4())\n",
    "    print(filename)\n",
    "    global algorithm,initial,terminal,route_button\n",
    "    print(algorithm.get(),initial.get(),terminal.get())\n",
    "    \n",
    "    \n",
    "    if \"A* Search\" == algorithm.get():\n",
    "        came_from, cost = A_Star(graph, graph.vertices[town_position(terminal.get(), graph)], town_position(initial.get(), graph))\n",
    "        print(cost)\n",
    "        path = RP(came_from, graph.vertices[town_position(initial.get(), graph)].value, graph.vertices[town_position(terminal.get(), graph)].value)\n",
    "        print(path)\n",
    "        line_visualizer(list(filter(lambda n: not isinstance(n, int), path)))\n",
    "        route_button.config(state=\"disabled\")\n",
    "        leaflet_map.save(f\"{filename}.html\")\n",
    "        messagebox.showinfo('DISTANCE',\"Total Distance = \" + str(obtain_distance(path)))\n",
    "        url = f\"file:///C:/Users//KBS-Assignments/Assignment 2/{filename}.html\"\n",
    "        window.destroy()\n",
    "        os.system('python Gensearch.py')\n",
    "    \n",
    "    \n",
    "    elif \"Breadth First Search\" == algorithm.get():\n",
    "        path = BFS(graph.vertices[town_position(terminal.get(), graph)], graph, town_position(initial.get(), graph))\n",
    "        print(path)\n",
    "        line_visualizer(list(map(lambda n: n.value, path)))\n",
    "        route_button.config(state=\"disabled\")\n",
    "        leaflet_map.save(f\"{filename}.html\")\n",
    "        messagebox.showinfo('DISTANCE', \"Total Distance = \" + str(obtain_distance(path)))\n",
    "        url = f\"file:///C:/Users//KBS-Assignments/Assignment 2/{filename}.html\"\n",
    "        window.destroy()\n",
    "        os.system('python Gensearch.py')\n",
    "        \n",
    "        \n",
    "    else:\n",
    "        path = DFS(graph.vertices[town_position(terminal.get(), graph)], graph, town_position(initial.get(), graph))\n",
    "        line_visualizer(list(map(lambda n: n.value, path)))\n",
    "        route_button.config(state=\"disabled\")\n",
    "        leaflet_map.save(f\"{filename}.html\")\n",
    "        messagebox.showinfo('DISTANCE', \"Total Distance = \" + str(obtain_distance(path)))\n",
    "        url = f\"file:///C:/Users//KBS-Assignments/Assignment 2/{filename}.html\"\n",
    "        window.destroy()\n",
    "        os.system('python Gensearch.py')           "
   ]
  },
  {
   "cell_type": "code",
   "execution_count": 15,
   "id": "582fa12f",
   "metadata": {},
   "outputs": [
    {
     "name": "stdout",
     "output_type": "stream",
     "text": [
      "51b2e529-2947-41be-a36a-ae602fa526f6\n",
      "Depth First Search Kisumu Malindi\n"
     ]
    },
    {
     "name": "stderr",
     "output_type": "stream",
     "text": [
      "2022-07-27 10:44:11.498 python[48254:1367125] Warning: Expected min height of view: (<NSButton: 0x7fd4bae37780>) to be less than or equal to 30 but got a height of 32.000000. This error will be logged once per view in violation.\n",
      "2022-07-27 11:07:40.365 python[48254:1367125] Warning: Expected min height of view: (<NSButton: 0x7fd4b9076e20>) to be less than or equal to 30 but got a height of 32.000000. This error will be logged once per view in violation.\n",
      "python: can't open file '/Users/user/Desktop/Assignment 2 - Search Strategies/Gensearch.py': [Errno 2] No such file or directory\n"
     ]
    }
   ],
   "source": [
    "window = Tk() \n",
    "window.title(\"Mbote Joseph Route Finder\")\n",
    "window.geometry(\"1350x750\")\n",
    "window.maxsize(1350,750)\n",
    "window.minsize(1350,750)\n",
    "window.configure(bg='#041b2d') \n",
    "\n",
    "\n",
    "img = PhotoImage(file = \"Kenya.png\")\n",
    "image_label = Label(window,image=img,bg='#041b2d')\n",
    "image_label.place(x=330, y=85)\n",
    "\n",
    "\n",
    "algorithm = StringVar(window)\n",
    "algorithm.set(\"Select Strategy: \")\n",
    "algorithm_menu = OptionMenu(window,algorithm,\"A* Search\", \"Breadth First Search\", \"Depth First Search\")\n",
    "algorithm_menu.config(width=18, fg=\"#041b2d\",bg=\"white\", activebackground=\"#65F3B9\")\n",
    "algorithm_menu.place(x=685,y=225)\n",
    "\n",
    "\n",
    "initial = StringVar(window)\n",
    "initial.set('Select Town: ')\n",
    "initial_menu = OptionMenu(window, initial, 'Eldoret' , 'Garissa' , 'Isiolo', 'Kisumu', 'Kitui', 'Malindi' , 'Mombasa' , 'Nairobi' , 'Nakuru' , 'Thika')\n",
    "initial_menu.config(width=12, fg=\"#041b2d\",bg=\"white\", activebackground=\"#65F3B9\")\n",
    "initial_menu.place(x=615, y=335)\n",
    "\n",
    "\n",
    "terminal = StringVar(window)\n",
    "terminal.set('Select Town: ')\n",
    "terminal_menu = OptionMenu(window, terminal,'Eldoret' , 'Garissa' , 'Isiolo', 'Kisumu', 'Kitui', 'Malindi' , 'Mombasa' , 'Nairobi' , 'Nakuru' , 'Thika')\n",
    "terminal_menu.config(width=12, fg=\"#041b2d\",bg=\"white\", activebackground=\"#65F3B9\")\n",
    "terminal_menu.place(x=800, y=335)\n",
    "\n",
    "\n",
    "route_button = Button(window,text=\"OBTAIN ROUTE\", fg=\"white\",bg=\"#041b2d\", activebackground=\"#ABDEE6\" ,font=(\"Calibri\",13,\"bold\"),bd=5,command=interaction)\n",
    "route_button.place(x=695,y=400)\n",
    "\n",
    "\n",
    "restart_button = Button(window,text=\"RESTART\", fg=\"#041b2d\",bg=\"white\", activebackground=\"#ABDEE6\" ,font=(\"Calibri\",13,\"bold\"),bd=5, command=window.destroy)\n",
    "restart_button.place(x=645,y=580)\n",
    "\n",
    "window.mainloop()"
   ]
  },
  {
   "cell_type": "code",
   "execution_count": null,
   "id": "63b1854c",
   "metadata": {},
   "outputs": [],
   "source": []
  }
 ],
 "metadata": {
  "kernelspec": {
   "display_name": "Python 3 (ipykernel)",
   "language": "python",
   "name": "python3"
  },
  "language_info": {
   "codemirror_mode": {
    "name": "ipython",
    "version": 3
   },
   "file_extension": ".py",
   "mimetype": "text/x-python",
   "name": "python",
   "nbconvert_exporter": "python",
   "pygments_lexer": "ipython3",
   "version": "3.9.7"
  }
 },
 "nbformat": 4,
 "nbformat_minor": 5
}
